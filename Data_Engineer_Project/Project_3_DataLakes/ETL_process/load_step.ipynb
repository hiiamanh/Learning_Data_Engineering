{
 "cells": [
  {
   "cell_type": "markdown",
   "metadata": {
    "application/vnd.databricks.v1+cell": {
     "cellMetadata": {
      "byteLimit": 2048000,
      "rowLimit": 10000
     },
     "inputWidgets": {},
     "nuid": "03e176de-82e6-4a30-8d1a-11db186a5749",
     "showTitle": false,
     "title": ""
    }
   },
   "source": [
    "##Create a gold data store in Delta Lake tables\n",
    "Scripts to create SQL table from Delta file locations."
   ]
  },
  {
   "cell_type": "code",
   "execution_count": 0,
   "metadata": {
    "application/vnd.databricks.v1+cell": {
     "cellMetadata": {
      "byteLimit": 2048000,
      "rowLimit": 10000
     },
     "inputWidgets": {},
     "nuid": "c49709c0-210b-4270-b071-b3e9e1e278cc",
     "showTitle": false,
     "title": ""
    }
   },
   "outputs": [
    {
     "output_type": "stream",
     "name": "stdout",
     "output_type": "stream",
     "text": [
      "Out[5]: DataFrame[]"
     ]
    }
   ],
   "source": [
    "##Create payments gold data store\n",
    "if spark.catalog.tableExists(\"staging_payments\") == True :\n",
    "    spark.sql(\"DROP TABLE staging_payments\")\n",
    "spark.sql(\"CREATE TABLE staging_payments USING DELTA LOCATION '/delta/payments'\")"
   ]
  },
  {
   "cell_type": "code",
   "execution_count": 0,
   "metadata": {
    "application/vnd.databricks.v1+cell": {
     "cellMetadata": {
      "byteLimit": 2048000,
      "rowLimit": 10000
     },
     "inputWidgets": {},
     "nuid": "0ce23a04-fa99-4739-94ba-7293c20cd25e",
     "showTitle": false,
     "title": ""
    }
   },
   "outputs": [
    {
     "output_type": "stream",
     "name": "stdout",
     "output_type": "stream",
     "text": [
      "Out[6]: DataFrame[]"
     ]
    }
   ],
   "source": [
    "##Create riders gold data store\n",
    "if spark.catalog.tableExists(\"staging_riders\") == True :\n",
    "    spark.sql(\"DROP TABLE staging_riders\")\n",
    "spark.sql(\"CREATE TABLE staging_riders USING DELTA LOCATION '/delta/riders'\")"
   ]
  },
  {
   "cell_type": "code",
   "execution_count": 0,
   "metadata": {
    "application/vnd.databricks.v1+cell": {
     "cellMetadata": {
      "byteLimit": 2048000,
      "rowLimit": 10000
     },
     "inputWidgets": {},
     "nuid": "4a1b0d25-b935-48f3-b158-0f0b1eca1474",
     "showTitle": false,
     "title": ""
    }
   },
   "outputs": [
    {
     "output_type": "stream",
     "name": "stdout",
     "output_type": "stream",
     "text": [
      "Out[7]: DataFrame[]"
     ]
    }
   ],
   "source": [
    "##Create stations gold data store\n",
    "if spark.catalog.tableExists(\"staging_stations \") == True :\n",
    "    spark.sql(\"DROP TABLE staging_stations \")\n",
    "spark.sql(\"CREATE TABLE staging_stations USING DELTA LOCATION '/delta/stations'\")"
   ]
  },
  {
   "cell_type": "code",
   "execution_count": 0,
   "metadata": {
    "application/vnd.databricks.v1+cell": {
     "cellMetadata": {
      "byteLimit": 2048000,
      "rowLimit": 10000
     },
     "inputWidgets": {},
     "nuid": "c93f1762-ea64-4467-9f7d-860017b057ae",
     "showTitle": false,
     "title": ""
    }
   },
   "outputs": [
    {
     "output_type": "stream",
     "name": "stdout",
     "output_type": "stream",
     "text": [
      "Out[8]: DataFrame[]"
     ]
    }
   ],
   "source": [
    "##Create trips gold data store\n",
    "if spark.catalog.tableExists(\"staging_trips\") == True :\n",
    "    spark.sql(\"DROP TABLE staging_trips \")\n",
    "spark.sql(\"CREATE TABLE staging_trips USING DELTA LOCATION '/delta/trips'\")"
   ]
  },
  {
   "cell_type": "code",
   "execution_count": 0,
   "metadata": {
    "application/vnd.databricks.v1+cell": {
     "cellMetadata": {},
     "inputWidgets": {},
     "nuid": "2aa56cd0-317a-48e1-9cfe-f3c06234182a",
     "showTitle": false,
     "title": ""
    }
   },
   "outputs": [],
   "source": []
  }
 ],
 "metadata": {
  "application/vnd.databricks.v1+notebook": {
   "dashboards": [],
   "language": "python",
   "notebookMetadata": {
    "pythonIndentUnit": 4
   },
   "notebookName": "load_step",
   "notebookOrigID": 3715339129031187,
   "widgets": {}
  }
 },
 "nbformat": 4,
 "nbformat_minor": 0
}
