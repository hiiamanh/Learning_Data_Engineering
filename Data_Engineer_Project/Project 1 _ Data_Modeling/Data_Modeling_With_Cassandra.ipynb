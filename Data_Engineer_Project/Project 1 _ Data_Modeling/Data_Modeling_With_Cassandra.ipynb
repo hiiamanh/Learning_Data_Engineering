{
 "cells": [
  {
   "cell_type": "markdown",
   "metadata": {},
   "source": [
    "# Part I. ETL Pipeline for Pre-Processing the Files"
   ]
  },
  {
   "cell_type": "markdown",
   "metadata": {},
   "source": [
    "## PLEASE RUN THE FOLLOWING CODE FOR PRE-PROCESSING THE FILES"
   ]
  },
  {
   "cell_type": "markdown",
   "metadata": {},
   "source": [
    "#### Import Python packages "
   ]
  },
  {
   "cell_type": "code",
   "execution_count": 24,
   "metadata": {},
   "outputs": [],
   "source": [
    "# Import Python packages \n",
    "import pandas as pd\n",
    "import cassandra\n",
    "import re\n",
    "import os\n",
    "import glob\n",
    "import numpy as np\n",
    "import json\n",
    "import csv"
   ]
  },
  {
   "cell_type": "markdown",
   "metadata": {},
   "source": [
    "#### Creating list of filepaths to process original event csv data files"
   ]
  },
  {
   "cell_type": "code",
   "execution_count": 25,
   "metadata": {
    "scrolled": true
   },
   "outputs": [
    {
     "name": "stdout",
     "output_type": "stream",
     "text": [
      "/home/anhbuingoc/Learning/Data_Engineer/Learning_Data_Engineer/Project 1 : Data Modeling\n",
      "['/home/anhbuingoc/Learning/Data_Engineer/Learning_Data_Engineer/Project 1 : Data Modeling/event_data/2018-11-04-events.csv', '/home/anhbuingoc/Learning/Data_Engineer/Learning_Data_Engineer/Project 1 : Data Modeling/event_data/2018-11-11-events.csv', '/home/anhbuingoc/Learning/Data_Engineer/Learning_Data_Engineer/Project 1 : Data Modeling/event_data/2018-11-23-events.csv', '/home/anhbuingoc/Learning/Data_Engineer/Learning_Data_Engineer/Project 1 : Data Modeling/event_data/2018-11-06-events.csv', '/home/anhbuingoc/Learning/Data_Engineer/Learning_Data_Engineer/Project 1 : Data Modeling/event_data/2018-11-28-events.csv', '/home/anhbuingoc/Learning/Data_Engineer/Learning_Data_Engineer/Project 1 : Data Modeling/event_data/2018-11-15-events.csv', '/home/anhbuingoc/Learning/Data_Engineer/Learning_Data_Engineer/Project 1 : Data Modeling/event_data/2018-11-21-events.csv', '/home/anhbuingoc/Learning/Data_Engineer/Learning_Data_Engineer/Project 1 : Data Modeling/event_data/2018-11-26-events.csv', '/home/anhbuingoc/Learning/Data_Engineer/Learning_Data_Engineer/Project 1 : Data Modeling/event_data/2018-11-18-events.csv', '/home/anhbuingoc/Learning/Data_Engineer/Learning_Data_Engineer/Project 1 : Data Modeling/event_data/2018-11-01-events.csv', '/home/anhbuingoc/Learning/Data_Engineer/Learning_Data_Engineer/Project 1 : Data Modeling/event_data/2018-11-13-events.csv', '/home/anhbuingoc/Learning/Data_Engineer/Learning_Data_Engineer/Project 1 : Data Modeling/event_data/2018-11-16-events.csv', '/home/anhbuingoc/Learning/Data_Engineer/Learning_Data_Engineer/Project 1 : Data Modeling/event_data/2018-11-05-events.csv', '/home/anhbuingoc/Learning/Data_Engineer/Learning_Data_Engineer/Project 1 : Data Modeling/event_data/2018-11-30-events.csv', '/home/anhbuingoc/Learning/Data_Engineer/Learning_Data_Engineer/Project 1 : Data Modeling/event_data/2018-11-29-events.csv', '/home/anhbuingoc/Learning/Data_Engineer/Learning_Data_Engineer/Project 1 : Data Modeling/event_data/2018-11-10-events.csv', '/home/anhbuingoc/Learning/Data_Engineer/Learning_Data_Engineer/Project 1 : Data Modeling/event_data/2018-11-12-events.csv', '/home/anhbuingoc/Learning/Data_Engineer/Learning_Data_Engineer/Project 1 : Data Modeling/event_data/2018-11-20-events.csv', '/home/anhbuingoc/Learning/Data_Engineer/Learning_Data_Engineer/Project 1 : Data Modeling/event_data/2018-11-25-events.csv', '/home/anhbuingoc/Learning/Data_Engineer/Learning_Data_Engineer/Project 1 : Data Modeling/event_data/2018-11-14-events.csv', '/home/anhbuingoc/Learning/Data_Engineer/Learning_Data_Engineer/Project 1 : Data Modeling/event_data/2018-11-24-events.csv', '/home/anhbuingoc/Learning/Data_Engineer/Learning_Data_Engineer/Project 1 : Data Modeling/event_data/2018-11-02-events.csv', '/home/anhbuingoc/Learning/Data_Engineer/Learning_Data_Engineer/Project 1 : Data Modeling/event_data/2018-11-22-events.csv', '/home/anhbuingoc/Learning/Data_Engineer/Learning_Data_Engineer/Project 1 : Data Modeling/event_data/2018-11-27-events.csv', '/home/anhbuingoc/Learning/Data_Engineer/Learning_Data_Engineer/Project 1 : Data Modeling/event_data/2018-11-17-events.csv', '/home/anhbuingoc/Learning/Data_Engineer/Learning_Data_Engineer/Project 1 : Data Modeling/event_data/2018-11-08-events.csv', '/home/anhbuingoc/Learning/Data_Engineer/Learning_Data_Engineer/Project 1 : Data Modeling/event_data/2018-11-03-events.csv', '/home/anhbuingoc/Learning/Data_Engineer/Learning_Data_Engineer/Project 1 : Data Modeling/event_data/2018-11-19-events.csv', '/home/anhbuingoc/Learning/Data_Engineer/Learning_Data_Engineer/Project 1 : Data Modeling/event_data/2018-11-09-events.csv', '/home/anhbuingoc/Learning/Data_Engineer/Learning_Data_Engineer/Project 1 : Data Modeling/event_data/2018-11-07-events.csv']\n"
     ]
    }
   ],
   "source": [
    "# checking your current working directory\n",
    "print(os.getcwd())\n",
    "\n",
    "# Get your current folder and subfolder event data\n",
    "filepath = os.getcwd() + '/event_data'\n",
    "\n",
    "# Create a for loop to create a list of files and collect each filepath\n",
    "for root, dirs, files in os.walk(filepath):\n",
    "    \n",
    "# join the file path and roots with the subdirectories using glob\n",
    "    file_path_list = glob.glob(os.path.join(root,'*'))\n",
    "    print(file_path_list)"
   ]
  },
  {
   "cell_type": "markdown",
   "metadata": {},
   "source": [
    "#### Processing the files to create the data file csv that will be used for Apache Casssandra tables"
   ]
  },
  {
   "cell_type": "code",
   "execution_count": 26,
   "metadata": {},
   "outputs": [],
   "source": [
    "# initiating an empty list of rows that will be generated from each file\n",
    "full_data_rows_list = [] \n",
    "\n",
    "# for every filepath in the file path list \n",
    "for f in file_path_list:\n",
    "\n",
    "# reading csv file \n",
    "    with open(f, 'r', encoding = 'utf8', newline='') as csvfile: \n",
    "        # creating a csv reader object \n",
    "        csvreader = csv.reader(csvfile) \n",
    "        next(csvreader)\n",
    "        \n",
    " # extracting each data row one by one and append it        \n",
    "        for line in csvreader:\n",
    "            #print(line)\n",
    "            full_data_rows_list.append(line) \n",
    "            \n",
    "# uncomment the code below if you would like to get total number of rows \n",
    "#print(len(full_data_rows_list))\n",
    "# uncomment the code below if you would like to check to see what the list of event data rows will look like\n",
    "#print(full_data_rows_list)\n",
    "\n",
    "# creating a smaller event data csv file called event_datafile_full csv that will be used to insert data into the \\\n",
    "# Apache Cassandra tables\n",
    "csv.register_dialect('myDialect', quoting=csv.QUOTE_ALL, skipinitialspace=True)\n",
    "\n",
    "with open('event_datafile_new.csv', 'w', encoding = 'utf8', newline='') as f:\n",
    "    writer = csv.writer(f, dialect='myDialect')\n",
    "    writer.writerow(['artist','firstName','gender','itemInSession','lastName','length',\\\n",
    "                'level','location','sessionId','song','userId'])\n",
    "    for row in full_data_rows_list:\n",
    "        if (row[0] == ''):\n",
    "            continue\n",
    "        writer.writerow((row[0], row[2], row[3], row[4], row[5], row[6], row[7], row[8], row[12], row[13], row[16]))\n"
   ]
  },
  {
   "cell_type": "code",
   "execution_count": 27,
   "metadata": {},
   "outputs": [
    {
     "name": "stdout",
     "output_type": "stream",
     "text": [
      "6821\n"
     ]
    }
   ],
   "source": [
    "# check the number of rows in your csv file\n",
    "with open('event_datafile_new.csv', 'r', encoding = 'utf8') as f:\n",
    "    print(sum(1 for line in f))"
   ]
  },
  {
   "cell_type": "markdown",
   "metadata": {},
   "source": [
    "# Part II. Complete the Apache Cassandra coding portion of your project. \n",
    "\n",
    "## Now you are ready to work with the CSV file titled <font color=red>event_datafile_new.csv</font>, located within the Workspace directory.  The event_datafile_new.csv contains the following columns: \n",
    "- artist \n",
    "- firstName of user\n",
    "- gender of user\n",
    "- item number in session\n",
    "- last name of user\n",
    "- length of the song\n",
    "- level (paid or free song)\n",
    "- location of the user\n",
    "- sessionId\n",
    "- song title\n",
    "- userId\n",
    "\n",
    "The image below is a screenshot of what the denormalized data should appear like in the <font color=red>**event_datafile_new.csv**</font> after the code above is run:<br>\n",
    "\n",
    "<img src=\"images/image_event_datafile_new.jpg\">"
   ]
  },
  {
   "cell_type": "markdown",
   "metadata": {},
   "source": [
    "## Begin writing your Apache Cassandra code in the cells below"
   ]
  },
  {
   "cell_type": "markdown",
   "metadata": {},
   "source": [
    "#### Creating a Cluster"
   ]
  },
  {
   "cell_type": "code",
   "execution_count": 28,
   "metadata": {},
   "outputs": [],
   "source": [
    "# This should make a connection to a Cassandra instance your local machine \n",
    "# (127.0.0.1)\n",
    "from cassandra.cluster import Cluster\n",
    "try:\n",
    "    cluster = Cluster(['127.0.0.1'])\n",
    "    # To establish connection and begin executing queries, need a session\n",
    "    session = cluster.connect()\n",
    "except Exception as e:\n",
    "    print(e)"
   ]
  },
  {
   "cell_type": "markdown",
   "metadata": {},
   "source": [
    "#### Create Keyspace"
   ]
  },
  {
   "cell_type": "code",
   "execution_count": 29,
   "metadata": {},
   "outputs": [],
   "source": [
    "#Create a Keyspace\n",
    "try:\n",
    "    session.execute(\"\"\"\n",
    "                    CREATE KEYSPACE IF NOT EXISTS  data_modeling\n",
    "                    WITH REPLICATION = {'class': 'SimpleStrategy', 'replication_factor' : 1}\n",
    "                    \"\"\")\n",
    "except Exception as e:\n",
    "    print(e)"
   ]
  },
  {
   "cell_type": "markdown",
   "metadata": {},
   "source": [
    "#### Set Keyspace"
   ]
  },
  {
   "cell_type": "code",
   "execution_count": 30,
   "metadata": {},
   "outputs": [],
   "source": [
    "#Set KEYSPACE to the keyspace specified above\n",
    "try:\n",
    "    session.set_keyspace('data_modeling')\n",
    "except Exception as e:\n",
    "    print(e)\n"
   ]
  },
  {
   "cell_type": "markdown",
   "metadata": {},
   "source": [
    "### Now we need to create tables to run the following queries. Remember, with Apache Cassandra you model the database tables on the queries you want to run."
   ]
  },
  {
   "attachments": {},
   "cell_type": "markdown",
   "metadata": {},
   "source": [
    "## Create queries to ask the following three questions of the data\n",
    "\n",
    "### 1. Give me the artist, song title and song's length in the music app history that was heard during  sessionId = 338, and itemInSession  = 4\n",
    "\n",
    "\n",
    "\n"
   ]
  },
  {
   "cell_type": "code",
   "execution_count": 31,
   "metadata": {},
   "outputs": [],
   "source": [
    "query = \"CREATE TABLE IF NOT EXISTS song_library \"\n",
    "query = query + \"(sessonID int, itemInSession int, artist_name text, song_title text, song_length float, PRIMARY KEY(sessonID,itemInSession))\"\n",
    "\n",
    "try:\n",
    "    session.execute(query)\n",
    "except Exception as e:\n",
    "    print(e)\n"
   ]
  },
  {
   "attachments": {},
   "cell_type": "markdown",
   "metadata": {},
   "source": [
    "         sessonID          line[8]\n",
    "         itemInSession     line[3]\n",
    "         artist_name       line[0]\n",
    "         song_title        line[9]\n",
    "         song_length       line[5]"
   ]
  },
  {
   "attachments": {},
   "cell_type": "markdown",
   "metadata": {},
   "source": [
    "Insert data in CSV file to table"
   ]
  },
  {
   "cell_type": "code",
   "execution_count": 32,
   "metadata": {
    "scrolled": false
   },
   "outputs": [],
   "source": [
    "file = 'event_datafile_new.csv'\n",
    "\n",
    "with open(file, encoding = 'utf8') as f:\n",
    "    csvreader = csv.reader(f)\n",
    "    next(csvreader) # skip header\n",
    "    for line in csvreader:\n",
    "        #Insert value to table\n",
    "        query = \"INSERT INTO song_library (sessonID, itemInSession, artist_name, song_title, song_length)\"\n",
    "        query = query + \"VALUES (%s, %s, %s, %s, %s)\"\n",
    "        # Execute insert value to table\n",
    "        session.execute(query, (int(line[8]), int(line[3]), line[0],line[9],float(line[5])))"
   ]
  },
  {
   "cell_type": "markdown",
   "metadata": {},
   "source": [
    "#### Do a SELECT to verify that the data have been inserted into each table"
   ]
  },
  {
   "cell_type": "code",
   "execution_count": 33,
   "metadata": {
    "scrolled": true
   },
   "outputs": [
    {
     "name": "stdout",
     "output_type": "stream",
     "text": [
      "Faithless - Music Matters (Mark Knight Dub) - 495.30731201171875\n"
     ]
    }
   ],
   "source": [
    "## Use SELECT statement to Give the artist, song title and song's length in the music app history that was heard during sessionId = 338, and itemInSession = 4\n",
    "query = \"SELECT artist_name, song_title, song_length FROM song_library WHERE sessonID=338 AND itemInSession=4\"\n",
    "try:\n",
    "    rows = session.execute(query)\n",
    "except Exception as e:\n",
    "    print(e)\n",
    "\n",
    "for row in rows:\n",
    "    print(row.artist_name,\"-\", row.song_title,\"-\", row.song_length)"
   ]
  },
  {
   "attachments": {},
   "cell_type": "markdown",
   "metadata": {},
   "source": [
    "### 2. Give me only the following: name of artist, song (sorted by itemInSession) and user (first and last name) for userid = 10, sessionid = 182\n"
   ]
  },
  {
   "attachments": {},
   "cell_type": "markdown",
   "metadata": {},
   "source": [
    "Create table for query 2"
   ]
  },
  {
   "attachments": {},
   "cell_type": "markdown",
   "metadata": {},
   "source": [
    "\n",
    "    for PRIMARY KEY:\n",
    "        - set (userID,sessionID) as composite partition key\n",
    "        - set  itemInSession as CLUSTER COLUMN"
   ]
  },
  {
   "cell_type": "code",
   "execution_count": 34,
   "metadata": {},
   "outputs": [],
   "source": [
    "query = \"CREATE TABLE IF NOT EXISTS song_artist_user_info_by_session\"\n",
    "query = query + \"(userID int, sessionID int, itemInSession int, artist_name text, song_title text, first_name text,last_name text, PRIMARY KEY((userID,sessionID),itemInSession))\"\n",
    "\n",
    "try:\n",
    "    session.execute(query)\n",
    "except Exception as e:\n",
    "    print(e)"
   ]
  },
  {
   "attachments": {},
   "cell_type": "markdown",
   "metadata": {},
   "source": [
    "Insert data in CSV file to table\n",
    "\n",
    "     userID            line[10]\n",
    "     sessionID         line[8]\n",
    "     itemInSession     line[3]\n",
    "     artist_name       line[0]\n",
    "     song_title        line[9]\n",
    "     first_name        line[1]\n",
    "     last_name         line[4]"
   ]
  },
  {
   "cell_type": "code",
   "execution_count": 36,
   "metadata": {},
   "outputs": [],
   "source": [
    "file = 'event_datafile_new.csv'\n",
    "\n",
    "with open(file, encoding = 'utf8') as f:\n",
    "    csvreader = csv.reader(f)\n",
    "    next(csvreader) # skip header\n",
    "    for line in csvreader:\n",
    "        #Insert value to table\n",
    "        query = \"INSERT INTO song_artist_user_info_by_session (userID, sessionID, itemInSession, artist_name, song_title, first_name, last_name)\"\n",
    "        query = query + \"VALUES (%s, %s, %s, %s, %s, %s, %s)\"\n",
    "        # Execute insert value to table\n",
    "        session.execute(query, (int(line[10]),int(line[8]), int(line[3]), line[0],line[9],line[1], line[4]))"
   ]
  },
  {
   "attachments": {},
   "cell_type": "markdown",
   "metadata": {},
   "source": [
    "#### Do a SELECT to verify that the data have been inserted into each table"
   ]
  },
  {
   "cell_type": "code",
   "execution_count": 37,
   "metadata": {},
   "outputs": [
    {
     "name": "stdout",
     "output_type": "stream",
     "text": [
      "0 - Down To The Bone - Keep On Keepin' On - Sylvie - Cruz\n",
      "1 - Three Drives - Greece 2000 - Sylvie - Cruz\n",
      "2 - Sebastien Tellier - Kilometer - Sylvie - Cruz\n",
      "3 - Lonnie Gordon - Catch You Baby (Steve Pitron & Max Sanna Radio Edit) - Sylvie - Cruz\n"
     ]
    }
   ],
   "source": [
    "query = \"SELECT itemInSession, artist_name, song_title, first_name, last_name FROM song_artist_user_info_by_session WHERE userID=10 AND sessionID=182\"\n",
    "try:\n",
    "    rows = session.execute(query)\n",
    "except Exception as e:\n",
    "    print(e)\n",
    "\n",
    "for row in rows:\n",
    "    print(row.iteminsession,\"-\", row.artist_name,\"-\", row.song_title,\"-\", row.first_name,\"-\", row.last_name)"
   ]
  },
  {
   "attachments": {},
   "cell_type": "markdown",
   "metadata": {},
   "source": [
    "\n",
    "\n",
    "### 3. Give me every user name (first and last) in my music app history who listened to the song 'All Hands Against His Own'"
   ]
  },
  {
   "attachments": {},
   "cell_type": "markdown",
   "metadata": {},
   "source": [
    "### Create a table to query"
   ]
  },
  {
   "cell_type": "code",
   "execution_count": 38,
   "metadata": {},
   "outputs": [],
   "source": [
    "query = \"CREATE TABLE IF NOT EXISTS listener_history \"\n",
    "query = query + \"(song_title text, userID int, first_name text, last_name text, PRIMARY KEY(song_title,userID))\"\n",
    "\n",
    "try:\n",
    "    session.execute(query)\n",
    "except Exception as e:\n",
    "    print(e)"
   ]
  },
  {
   "attachments": {},
   "cell_type": "markdown",
   "metadata": {},
   "source": [
    "Insert data in CSV file to the table"
   ]
  },
  {
   "cell_type": "code",
   "execution_count": 39,
   "metadata": {},
   "outputs": [],
   "source": [
    "file = 'event_datafile_new.csv'\n",
    "\n",
    "with open(file, encoding = 'utf8') as f:\n",
    "    csvreader = csv.reader(f)\n",
    "    next(csvreader) # skip header\n",
    "    for line in csvreader:\n",
    "        #Insert value to table\n",
    "        query = \"INSERT INTO listener_history (userID, first_name, last_name, song_title)\"\n",
    "        query = query + \"VALUES (%s, %s, %s, %s)\"\n",
    "        # Execute insert value to table\n",
    "        session.execute(query, (int(line[10]),line[1], line[4],line[9]))"
   ]
  },
  {
   "attachments": {},
   "cell_type": "markdown",
   "metadata": {},
   "source": [
    "Using SELECT statement to get ouput"
   ]
  },
  {
   "cell_type": "code",
   "execution_count": 40,
   "metadata": {},
   "outputs": [
    {
     "name": "stdout",
     "output_type": "stream",
     "text": [
      "Jacqueline Lynch\n",
      "Tegan Levine\n",
      "Sara Johnson\n"
     ]
    }
   ],
   "source": [
    "query = \"SELECT first_name, last_name FROM listener_history WHERE song_title='All Hands Against His Own'\"\n",
    "try:\n",
    "    rows = session.execute(query)\n",
    "except Exception as e:\n",
    "    print(e)\n",
    "\n",
    "for row in rows:\n",
    "    print(row.first_name, row.last_name)"
   ]
  },
  {
   "cell_type": "markdown",
   "metadata": {},
   "source": [
    "### Drop the tables before closing out the sessions"
   ]
  },
  {
   "cell_type": "code",
   "execution_count": 41,
   "metadata": {},
   "outputs": [
    {
     "data": {
      "text/plain": [
       "<cassandra.cluster.ResultSet at 0x7f5fd53ab550>"
      ]
     },
     "execution_count": 41,
     "metadata": {},
     "output_type": "execute_result"
    }
   ],
   "source": [
    "session.execute(\"DROP TABLE IF EXISTS song_library\")\n",
    "session.execute(\"DROP TABLE IF EXISTS song_artist_user_info_by_session\")\n",
    "session.execute(\"DROP TABLE IF EXISTS listener_history\")"
   ]
  },
  {
   "cell_type": "markdown",
   "metadata": {},
   "source": [
    "### Close the session and cluster connection¶"
   ]
  },
  {
   "cell_type": "code",
   "execution_count": 42,
   "metadata": {},
   "outputs": [],
   "source": [
    "session.shutdown()\n",
    "cluster.shutdown()"
   ]
  },
  {
   "cell_type": "code",
   "execution_count": null,
   "metadata": {},
   "outputs": [],
   "source": []
  }
 ],
 "metadata": {
  "kernelspec": {
   "display_name": "Python 3",
   "language": "python",
   "name": "python3"
  },
  "language_info": {
   "codemirror_mode": {
    "name": "ipython",
    "version": 3
   },
   "file_extension": ".py",
   "mimetype": "text/x-python",
   "name": "python",
   "nbconvert_exporter": "python",
   "pygments_lexer": "ipython3",
   "version": "3.10.6"
  },
  "vscode": {
   "interpreter": {
    "hash": "916dbcbb3f70747c44a77c7bcd40155683ae19c65e1c03b4aa3499c5328201f1"
   }
  }
 },
 "nbformat": 4,
 "nbformat_minor": 2
}
